{
 "cells": [
  {
   "cell_type": "markdown",
   "metadata": {},
   "source": [
    "# Dataset Overview\n",
    "\n",
    "The data was obtained from Kaggle https://www.kaggle.com/harlfoxem/housesalesprediction <br>\n",
    "This dataset contains house data from King's County, Washington, which Seattle is part of. <br>\n",
    "You can see the more indepth breakdown of the data in https://github.com/hyunlee1999/Machine_Learning_Linear_Regression_House_Prices <br>\n",
    "\n",
    "# Notebook Overview\n",
    "In this notebook, I will be implementing the K-Nearest Neighbor (KNN) algorithm to this dataset. KNN algorithm is very simple but can be very powerful. It measures the distance between the whole training set and the individual rows of test set. Then, it picks the k \"closest neighbors\" by measuring the Euclidian Distance and picking the ones that are shortest distance apart from the test set. <br>\n",
    "\n",
    "This is very helpful in predicting the house prices because the location of the house really matters in determining the house prices. So, let's get started.\n",
    "\n",
    "# 1. Average and Standard Deviation of the Test Set\n",
    "To get the idea of the prices in the data set, here are some helpful numbers."
   ]
  },
  {
   "cell_type": "code",
   "execution_count": 1,
   "metadata": {},
   "outputs": [
    {
     "name": "stdout",
     "output_type": "stream",
     "text": [
      "The average prices in King's County, WA is 540088 dollars and the standard deviation is 367118 dollars\n"
     ]
    }
   ],
   "source": [
    "import pandas as pd\n",
    "import numpy as np\n",
    "\n",
    "houseData = pd.read_csv(\"kc_house_data.csv\")\n",
    "housePrices = houseData[\"price\"].values\n",
    "\n",
    "avg = np.sum(housePrices)/housePrices.size\n",
    "std = (np.sum((housePrices - avg)**2)/housePrices.size)**.5\n",
    "\n",
    "print(\"The average prices in King's County, WA is\", int(avg), \"dollars and the standard deviation is\", int(std), \"dollars\" )"
   ]
  },
  {
   "cell_type": "markdown",
   "metadata": {},
   "source": [
    "# 2. Splitting Training Set and Test Set\n",
    "We need to split off the training set and the test set. <br>\n",
    "Since the house prices are lop-sided and we don't have much entry, we should use stratified splitting."
   ]
  },
  {
   "cell_type": "code",
   "execution_count": 2,
   "metadata": {},
   "outputs": [
    {
     "data": {
      "text/plain": [
       "<matplotlib.axes._subplots.AxesSubplot at 0x1f987eaa508>"
      ]
     },
     "execution_count": 2,
     "metadata": {},
     "output_type": "execute_result"
    }
   ],
   "source": [
    "houseData[\"housePriceCategory\"] = pd.cut(houseData[\"price\"], bins = [0, 300000, 600000, 1000000, np.inf], labels = [1, 2, 3, 4])\n",
    "houseData[\"housePriceCategory\"].hist()"
   ]
  },
  {
   "cell_type": "markdown",
   "metadata": {},
   "source": [
    "I've split the houses according to price, and this looks pretty good. Now, I'll split it according to these prices."
   ]
  },
  {
   "cell_type": "code",
   "execution_count": 3,
   "metadata": {
    "scrolled": true
   },
   "outputs": [
    {
     "data": {
      "text/html": [
       "<div>\n",
       "<style scoped>\n",
       "    .dataframe tbody tr th:only-of-type {\n",
       "        vertical-align: middle;\n",
       "    }\n",
       "\n",
       "    .dataframe tbody tr th {\n",
       "        vertical-align: top;\n",
       "    }\n",
       "\n",
       "    .dataframe thead th {\n",
       "        text-align: right;\n",
       "    }\n",
       "</style>\n",
       "<table border=\"1\" class=\"dataframe\">\n",
       "  <thead>\n",
       "    <tr style=\"text-align: right;\">\n",
       "      <th></th>\n",
       "      <th>id</th>\n",
       "      <th>date</th>\n",
       "      <th>price</th>\n",
       "      <th>bedrooms</th>\n",
       "      <th>bathrooms</th>\n",
       "      <th>sqft_living</th>\n",
       "      <th>sqft_lot</th>\n",
       "      <th>floors</th>\n",
       "      <th>waterfront</th>\n",
       "      <th>view</th>\n",
       "      <th>...</th>\n",
       "      <th>sqft_above</th>\n",
       "      <th>sqft_basement</th>\n",
       "      <th>yr_built</th>\n",
       "      <th>yr_renovated</th>\n",
       "      <th>zipcode</th>\n",
       "      <th>lat</th>\n",
       "      <th>long</th>\n",
       "      <th>sqft_living15</th>\n",
       "      <th>sqft_lot15</th>\n",
       "      <th>housePriceCategory</th>\n",
       "    </tr>\n",
       "  </thead>\n",
       "  <tbody>\n",
       "    <tr>\n",
       "      <td>9059</td>\n",
       "      <td>8731900790</td>\n",
       "      <td>20140626T000000</td>\n",
       "      <td>354950.0</td>\n",
       "      <td>4</td>\n",
       "      <td>2.75</td>\n",
       "      <td>2530</td>\n",
       "      <td>7350</td>\n",
       "      <td>1.0</td>\n",
       "      <td>0</td>\n",
       "      <td>0</td>\n",
       "      <td>...</td>\n",
       "      <td>1280</td>\n",
       "      <td>1250</td>\n",
       "      <td>1977</td>\n",
       "      <td>0</td>\n",
       "      <td>98023</td>\n",
       "      <td>47.3130</td>\n",
       "      <td>-122.374</td>\n",
       "      <td>2280</td>\n",
       "      <td>7350</td>\n",
       "      <td>2</td>\n",
       "    </tr>\n",
       "    <tr>\n",
       "      <td>13879</td>\n",
       "      <td>9238450330</td>\n",
       "      <td>20141110T000000</td>\n",
       "      <td>330000.0</td>\n",
       "      <td>3</td>\n",
       "      <td>1.00</td>\n",
       "      <td>1070</td>\n",
       "      <td>10563</td>\n",
       "      <td>1.0</td>\n",
       "      <td>0</td>\n",
       "      <td>0</td>\n",
       "      <td>...</td>\n",
       "      <td>1070</td>\n",
       "      <td>0</td>\n",
       "      <td>1969</td>\n",
       "      <td>0</td>\n",
       "      <td>98072</td>\n",
       "      <td>47.7687</td>\n",
       "      <td>-122.166</td>\n",
       "      <td>1840</td>\n",
       "      <td>9638</td>\n",
       "      <td>2</td>\n",
       "    </tr>\n",
       "    <tr>\n",
       "      <td>12286</td>\n",
       "      <td>727500030</td>\n",
       "      <td>20140715T000000</td>\n",
       "      <td>815000.0</td>\n",
       "      <td>3</td>\n",
       "      <td>1.50</td>\n",
       "      <td>1370</td>\n",
       "      <td>8671</td>\n",
       "      <td>1.0</td>\n",
       "      <td>0</td>\n",
       "      <td>0</td>\n",
       "      <td>...</td>\n",
       "      <td>1370</td>\n",
       "      <td>0</td>\n",
       "      <td>1955</td>\n",
       "      <td>0</td>\n",
       "      <td>98004</td>\n",
       "      <td>47.6217</td>\n",
       "      <td>-122.198</td>\n",
       "      <td>1580</td>\n",
       "      <td>8671</td>\n",
       "      <td>3</td>\n",
       "    </tr>\n",
       "    <tr>\n",
       "      <td>3218</td>\n",
       "      <td>3574801110</td>\n",
       "      <td>20141125T000000</td>\n",
       "      <td>405000.0</td>\n",
       "      <td>4</td>\n",
       "      <td>2.75</td>\n",
       "      <td>2360</td>\n",
       "      <td>7716</td>\n",
       "      <td>1.0</td>\n",
       "      <td>0</td>\n",
       "      <td>0</td>\n",
       "      <td>...</td>\n",
       "      <td>1390</td>\n",
       "      <td>970</td>\n",
       "      <td>1978</td>\n",
       "      <td>0</td>\n",
       "      <td>98034</td>\n",
       "      <td>47.7301</td>\n",
       "      <td>-122.223</td>\n",
       "      <td>2160</td>\n",
       "      <td>8794</td>\n",
       "      <td>2</td>\n",
       "    </tr>\n",
       "    <tr>\n",
       "      <td>5287</td>\n",
       "      <td>7754900280</td>\n",
       "      <td>20140623T000000</td>\n",
       "      <td>322200.0</td>\n",
       "      <td>4</td>\n",
       "      <td>2.25</td>\n",
       "      <td>2010</td>\n",
       "      <td>19000</td>\n",
       "      <td>2.0</td>\n",
       "      <td>0</td>\n",
       "      <td>0</td>\n",
       "      <td>...</td>\n",
       "      <td>2010</td>\n",
       "      <td>0</td>\n",
       "      <td>1975</td>\n",
       "      <td>0</td>\n",
       "      <td>98042</td>\n",
       "      <td>47.3734</td>\n",
       "      <td>-122.119</td>\n",
       "      <td>1950</td>\n",
       "      <td>19626</td>\n",
       "      <td>2</td>\n",
       "    </tr>\n",
       "  </tbody>\n",
       "</table>\n",
       "<p>5 rows × 22 columns</p>\n",
       "</div>"
      ],
      "text/plain": [
       "               id             date     price  bedrooms  bathrooms  \\\n",
       "9059   8731900790  20140626T000000  354950.0         4       2.75   \n",
       "13879  9238450330  20141110T000000  330000.0         3       1.00   \n",
       "12286   727500030  20140715T000000  815000.0         3       1.50   \n",
       "3218   3574801110  20141125T000000  405000.0         4       2.75   \n",
       "5287   7754900280  20140623T000000  322200.0         4       2.25   \n",
       "\n",
       "       sqft_living  sqft_lot  floors  waterfront  view  ...  sqft_above  \\\n",
       "9059          2530      7350     1.0           0     0  ...        1280   \n",
       "13879         1070     10563     1.0           0     0  ...        1070   \n",
       "12286         1370      8671     1.0           0     0  ...        1370   \n",
       "3218          2360      7716     1.0           0     0  ...        1390   \n",
       "5287          2010     19000     2.0           0     0  ...        2010   \n",
       "\n",
       "       sqft_basement  yr_built  yr_renovated  zipcode      lat     long  \\\n",
       "9059            1250      1977             0    98023  47.3130 -122.374   \n",
       "13879              0      1969             0    98072  47.7687 -122.166   \n",
       "12286              0      1955             0    98004  47.6217 -122.198   \n",
       "3218             970      1978             0    98034  47.7301 -122.223   \n",
       "5287               0      1975             0    98042  47.3734 -122.119   \n",
       "\n",
       "       sqft_living15  sqft_lot15  housePriceCategory  \n",
       "9059            2280        7350                   2  \n",
       "13879           1840        9638                   2  \n",
       "12286           1580        8671                   3  \n",
       "3218            2160        8794                   2  \n",
       "5287            1950       19626                   2  \n",
       "\n",
       "[5 rows x 22 columns]"
      ]
     },
     "execution_count": 3,
     "metadata": {},
     "output_type": "execute_result"
    }
   ],
   "source": [
    "from sklearn.model_selection import StratifiedShuffleSplit\n",
    "shuffleSplit = StratifiedShuffleSplit(test_size = 0.3, random_state = 42)\n",
    "for trainIndex, testIndex in shuffleSplit.split(houseData, houseData[\"housePriceCategory\"]):\n",
    "    trainSet = houseData.iloc[trainIndex]\n",
    "    testSet = houseData.iloc[testIndex]\n",
    "trainSet.head()"
   ]
  },
  {
   "cell_type": "markdown",
   "metadata": {},
   "source": [
    "# 3. Splitting Features and House Prices in Test and Training Set"
   ]
  },
  {
   "cell_type": "code",
   "execution_count": 4,
   "metadata": {},
   "outputs": [],
   "source": [
    "trainSetCopy = trainSet.copy()\n",
    "trainPrices = trainSetCopy[\"price\"]\n",
    "trainFeatures = trainSetCopy[[\"lat\", \"long\"]]\n",
    "\n",
    "testSetCopy = testSet.copy()\n",
    "testPrices = testSetCopy[\"price\"]\n",
    "testFeatures = testSetCopy[[\"lat\", \"long\"]]"
   ]
  },
  {
   "cell_type": "markdown",
   "metadata": {},
   "source": [
    "# 4. KNN Algorithm Implementation\n",
    "This KNN algorithm has one hyperparameter, which is number of neighbors (var kCount) <br>\n",
    "If kCount is greater than 1, then the code will take the average of the prices of k-nearest neighbers. <br>\n",
    "All of the features were removed in this dataset except for longitude and latitude. We will be strictly comparing house prices based on the location only in this notebook. So, the euclidean distance between two points in this KNN algorithm is proportional to the actual distance between them!"
   ]
  },
  {
   "cell_type": "code",
   "execution_count": 5,
   "metadata": {},
   "outputs": [],
   "source": [
    "from sklearn.metrics import mean_squared_error, mean_absolute_error\n",
    "import matplotlib.pyplot as plt\n",
    "\n",
    "\n",
    "trainFeaturesNumpy = trainFeatures.values\n",
    "trainFeaturesNumpy.shape\n",
    "\n",
    "class KNN:\n",
    "    def __init__(self, kCount = 1):\n",
    "        self.kCount = kCount\n",
    "    def distance (self, X1, X2):\n",
    "        dist = np.sum((X1 - X2)**2, axis=1)**.5\n",
    "        return dist\n",
    "    def predict(self, trainX, trainY, testX):\n",
    "        prediction = []\n",
    "        for i in testX:\n",
    "            dist = self.distance(trainX, i)\n",
    "            knnIndex = np.argpartition(dist, self.kCount)\n",
    "            predictionValue = np.sum(trainY[knnIndex[:self.kCount]])/self.kCount\n",
    "            prediction.append(predictionValue)\n",
    "        return np.asarray(prediction)"
   ]
  },
  {
   "cell_type": "markdown",
   "metadata": {},
   "source": [
    "# 5. K-Linear Regression Model Performance Measure and Interesting Relationship between hyperparameter K (number of Neighbors) and Mean Absolute Error\n",
    "\n",
    "The mean absolute error was used as the performance measure of the algorithm. In the below code, I've plotted the error agains the number of neighbors, and there's a definite relationship between those two."
   ]
  },
  {
   "cell_type": "code",
   "execution_count": 6,
   "metadata": {},
   "outputs": [
    {
     "data": {
      "image/png": "[encoded data removed]",
      "text/plain": [
       "<Figure size 432x288 with 1 Axes>"
      ]
     },
     "metadata": {
      "needs_background": "light"
     },
     "output_type": "display_data"
    }
   ],
   "source": [
    "def main():\n",
    "    maeError = []\n",
    "    for i in range (1, 50):\n",
    "        knnRegressor = KNN(i)\n",
    "        prediction = knnRegressor.predict(trainFeatures.values,trainPrices.values, testFeatures.values)\n",
    "        error = mean_absolute_error(prediction, testPrices)\n",
    "        maeError.append(error)\n",
    "    maeErrorNp = np.asarray(maeError)\n",
    "    neighborCount = np.arange(1,50)\n",
    "    plt.plot(neighborCount, maeErrorNp, \"ro\")\n",
    "    plt.axis([0, 50, 120000, 150000])\n",
    "    plt.xlabel(\"Number of Neighbors\")\n",
    "    plt.ylabel(\"Mean Absolute Error\")\n",
    "    plt.title(\"Mean Absolute Error of Price vs. Number of Neighbors\")\n",
    "    plt.show()\n",
    "    \n",
    "    \n",
    "main()"
   ]
  },
  {
   "cell_type": "markdown",
   "metadata": {},
   "source": [
    "# 6. Thoughts on the Relationship of Hyperparameter K and Error on House Prices\n",
    "\n",
    "So, we can see from the graph that the error signifantly drops until when K = 4. Then, the the error doesn't have any more significant drops after that. So, the best hyperparameter setting is K = 4. <br>\n",
    "\n",
    "An interesting thing to note is that the error drops rapidly in 1 <= K <= 4. I think tha the reason for this drop is that one to three closest neighbors of a particular house is not very reflective of its neighborhood. Once K reaches 4, then the average prices for 4 closest neighbor more closely represent the price of that particular house. <br>\n",
    "\n",
    "Another interesting relationship is that approximately K > 10, you have a linear relationship between the number of neighbors and the mean absolute error. If the number of neighbors increase, then the mean absolute error increases as well. The primary reasons is that once you reach a certain K, then you account for houses that are outside the neighborhood of a particular house. So, the price estimation is inaccurate. <br>\n"
   ]
  },
  {
   "cell_type": "markdown",
   "metadata": {},
   "source": [
    "# 7. Future Testing\n",
    "\n",
    "I think another cool implementation to test is to incorporate linear regression with this K-nearest neighbor algorithm. Then, we can have two hyperparameters, number of neighbors and the weights for linear regressions, to find the best combination for this particular dataset. "
   ]
  },
  {
   "cell_type": "code",
   "execution_count": null,
   "metadata": {},
   "outputs": [],
   "source": []
  }
 ],
 "metadata": {
  "kernelspec": {
   "display_name": "Python 3",
   "language": "python",
   "name": "python3"
  },
  "language_info": {
   "codemirror_mode": {
    "name": "ipython",
    "version": 3
   },
   "file_extension": ".py",
   "mimetype": "text/x-python",
   "name": "python",
   "nbconvert_exporter": "python",
   "pygments_lexer": "ipython3",
   "version": "3.7.4"
  }
 },
 "nbformat": 4,
 "nbformat_minor": 2
}
